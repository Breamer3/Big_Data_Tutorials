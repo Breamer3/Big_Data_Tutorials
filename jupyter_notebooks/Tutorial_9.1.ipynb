{
 "cells": [
  {
   "cell_type": "code",
   "execution_count": null,
   "metadata": {},
   "outputs": [],
   "source": [
    "import numpy as np\n",
    "import pandas as pd\n",
    "import matplotlib.pyplot as plt\n",
    "import seaborn as sns\n",
    "from sklearn.model_selection import train_test_split\n",
    "from sklearn.datasets import fetch_california_housing\n",
    "from sklearn.pipeline import Pipeline\n",
    "from sklearn.preprocessing import StandardScaler\n",
    "from sklearn.metrics import r2_score, mean_squared_error, mean_absolute_error\n",
    "import os;\n",
    "import tensorflow as tf;\n",
    "os.environ['TF_CPP_MIN_LOG_LEVEL'] = '3'\n",
    "from tensorflow.keras.models import Sequential\n",
    "from tensorflow.keras.layers import Dense, Dropout\n",
    "from tensorflow.keras.callbacks import EarlyStopping\n",
    "sns.set_style('whitegrid')"
   ]
  },
  {
   "cell_type": "code",
   "execution_count": null,
   "metadata": {},
   "outputs": [],
   "source": [
    "data = fetch_california_housing()\n",
    "df = pd.DataFrame(data.data,columns=data.feature_names)\n",
    "df['price'] = pd.Series(data.target)\n",
    "print(df.shape)\n",
    "df.head()"
   ]
  },
  {
   "cell_type": "code",
   "execution_count": null,
   "metadata": {},
   "outputs": [],
   "source": [
    "\n",
    "# First, we split into train and test sets\n",
    "X_train, X_test, y_train, y_test = train_test_split(\n",
    "                                    df.drop(['price'],axis=1),\n",
    "                                    df['price'],\n",
    "                                    test_size=0.2,\n",
    "                                    random_state=0\n",
    "                                    )\n",
    "print(\"* Train set:\", X_train.shape, y_train.shape, \"\\n* Test set:\",  X_test.shape, y_test.shape)"
   ]
  },
  {
   "cell_type": "code",
   "execution_count": null,
   "metadata": {},
   "outputs": [],
   "source": [
    "\n",
    "# Then, from the train set, we split a validation set. We set the validation set as 20% of the train set\n",
    "X_train, X_val, y_train, y_val = train_test_split(\n",
    "                                    X_train,\n",
    "                                    y_train,\n",
    "                                    test_size=0.2,\n",
    "                                    random_state=0\n",
    "                                    )\n",
    "\n",
    "print(\"* Train set:\", X_train.shape, y_train.shape)\n",
    "print(\"* Validation set:\",  X_val.shape, y_val.shape)\n",
    "print(\"* Test set:\",   X_test.shape, y_test.shape)"
   ]
  },
  {
   "cell_type": "code",
   "execution_count": null,
   "metadata": {},
   "outputs": [],
   "source": [
    "def pipeline_pre_processing():\n",
    "    \"\"\"\n",
    "    Define data preparation pipeline\n",
    "    \"\"\"\n",
    "    pipeline_base = Pipeline([\n",
    "\n",
    "      ( \"feat_scaling\", StandardScaler() )\n",
    "\n",
    "    ])\n",
    "    return pipeline_base"
   ]
  },
  {
   "cell_type": "code",
   "execution_count": null,
   "metadata": {},
   "outputs": [],
   "source": [
    "pipeline = pipeline_pre_processing()\n",
    "X_train = pipeline.fit_transform(X_train)\n",
    "X_val= pipeline.transform(X_val)\n",
    "X_test = pipeline.transform(X_test)"
   ]
  },
  {
   "cell_type": "code",
   "execution_count": null,
   "metadata": {},
   "outputs": [],
   "source": [
    "def create_tf_model(n_features):\n",
    "\n",
    "  model = Sequential()\n",
    "  model.add(Dense(units=n_features, activation='relu', input_shape=(n_features,)))\n",
    "\n",
    "  model.add(Dense(units=8,activation='relu'))\n",
    "  model.add(Dropout(0.25))\n",
    "\n",
    "  model.add(Dense(units=4,activation='relu'))\n",
    "  model.add(Dropout(0.25))\n",
    "\n",
    "  model.add(Dense(units=1))\n",
    "  model.compile(loss='mse', optimizer='adam')\n",
    "\n",
    "  return model"
   ]
  },
  {
   "cell_type": "code",
   "execution_count": null,
   "metadata": {},
   "outputs": [],
   "source": [
    "model = create_tf_model(n_features=X_train.shape[1])\n",
    "model.summary()"
   ]
  },
  {
   "cell_type": "code",
   "execution_count": null,
   "metadata": {},
   "outputs": [],
   "source": [
    "from tensorflow.keras.utils import plot_model\n",
    "plot_model(model, show_shapes=True, to_file='../outputs/models/nn_regression.png')"
   ]
  },
  {
   "cell_type": "code",
   "execution_count": null,
   "metadata": {},
   "outputs": [],
   "source": [
    "\n",
    "early_stop = EarlyStopping(monitor='val_loss', mode='min', verbose=1, patience=15)"
   ]
  },
  {
   "cell_type": "code",
   "execution_count": null,
   "metadata": {},
   "outputs": [],
   "source": [
    "model.fit(x=X_train,\n",
    "          y=y_train,\n",
    "          epochs=100,\n",
    "          validation_data=(X_val, y_val),\n",
    "          verbose=1,\n",
    "          callbacks=[early_stop]\n",
    "          )"
   ]
  },
  {
   "cell_type": "code",
   "execution_count": null,
   "metadata": {},
   "outputs": [],
   "source": [
    "losses = pd.DataFrame(model.history.history)\n",
    "losses"
   ]
  },
  {
   "cell_type": "code",
   "execution_count": null,
   "metadata": {},
   "outputs": [],
   "source": [
    "sns.set_style(\"whitegrid\")\n",
    "losses[['loss','val_loss']].plot(style='.-')\n",
    "plt.title(\"Loss\")\n",
    "plt.show()"
   ]
  },
  {
   "cell_type": "code",
   "execution_count": null,
   "metadata": {},
   "outputs": [],
   "source": [
    "model.evaluate(X_test,y_test)"
   ]
  },
  {
   "cell_type": "code",
   "execution_count": null,
   "metadata": {},
   "outputs": [],
   "source": [
    "def regression_performance(X_train, y_train,\n",
    "                           X_val, y_val,\n",
    "                           X_test, y_test,pipeline):\n",
    "    \"\"\"\n",
    "    Assessment of performance of CNN regression model\n",
    "    \"\"\"\n",
    "    print(\"Model Evaluation \\n\")\n",
    "    print(\"* Train Set\")\n",
    "    regression_evaluation(X_train,y_train,pipeline)\n",
    "    print(\"* Validation Set\")\n",
    "    regression_evaluation(X_val, y_val,pipeline)\n",
    "    print(\"* Test Set\")\n",
    "    regression_evaluation(X_test,y_test,pipeline)\n",
    "\n",
    "def regression_evaluation(X, y, pipeline):\n",
    "    \"\"\"\n",
    "    Gets features and target (either from train or test set) and pipeline.\n",
    "    - Predicts using the pipeline and the features\n",
    "    - Calculates performance metrics comparing the prediction to the target\n",
    "    \"\"\"\n",
    "    prediction = pipeline.predict(X)\n",
    "    print('R2 Score:', round(r2_score(y, prediction), 3))\n",
    "    print('Mean Absolute Error:', round(mean_absolute_error(y, prediction), 3))\n",
    "    print('Mean Squared Error:', round(mean_squared_error(y, prediction), 3))\n",
    "    print('Root Mean Squared Error:', round(np.sqrt(mean_squared_error(y, prediction)), 3))\n",
    "    print(\"\\n\")\n",
    "    \n",
    "\n",
    "def regression_evaluation_plots(X_train, y_train,\n",
    "                                X_val, y_val,\n",
    "                                X_test, y_test,\n",
    "                                pipeline, alpha_scatter=0.5):\n",
    "    \"\"\"\n",
    "    Plot regression evaluation\n",
    "    \"\"\"\n",
    "    pred_train = pipeline.predict(X_train).reshape(-1)\n",
    "    # we reshape the prediction arrays to be in the format (n_rows,), so we can plot it after\n",
    "    pred_val = pipeline.predict(X_val).reshape(-1)\n",
    "    pred_test = pipeline.predict(X_test).reshape(-1)\n",
    "    fig, axes = plt.subplots(nrows=1, ncols=3, figsize=(15,6))\n",
    "    \n",
    "    sns.scatterplot(x=y_train , y=pred_train, alpha=alpha_scatter, ax=axes[0])\n",
    "    \n",
    "    sns.lineplot(x=y_train , y=y_train, color='red', ax=axes[0])\n",
    "    axes[0].set_xlabel(\"Actual\")\n",
    "    axes[0].set_ylabel(\"Predictions\")\n",
    "    axes[0].set_title(\"Train Set\")\n",
    "    \n",
    "    sns.scatterplot(x=y_val , y=pred_val, alpha=alpha_scatter, ax=axes[1])\n",
    "    \n",
    "    sns.lineplot(x=y_val , y=y_val, color='red', ax=axes[1])\n",
    "    axes[1].set_xlabel(\"Actual\")\n",
    "    axes[1].set_ylabel(\"Predictions\")\n",
    "    axes[1].set_title(\"Validation Set\")\n",
    "    \n",
    "    sns.scatterplot(x=y_test , y=pred_test, alpha=alpha_scatter, ax=axes[2])\n",
    "    sns.lineplot(x=y_test , y=y_test, color='red', ax=axes[2])\n",
    "    axes[2].set_xlabel(\"Actual\")\n",
    "    axes[2].set_ylabel(\"Predictions\")\n",
    "    axes[2].set_title(\"Test Set\")\n",
    "    \n",
    "    plt.show()"
   ]
  },
  {
   "cell_type": "code",
   "execution_count": null,
   "metadata": {},
   "outputs": [],
   "source": [
    "regression_performance(X_train, y_train,X_val, y_val, X_test, y_test,model)\n",
    "regression_evaluation_plots(X_train, y_train, X_val, y_val,X_test, y_test,\n",
    "                            model, alpha_scatter=0.5)"
   ]
  },
  {
   "cell_type": "code",
   "execution_count": null,
   "metadata": {},
   "outputs": [],
   "source": [
    "X_test.shape"
   ]
  },
  {
   "cell_type": "code",
   "execution_count": null,
   "metadata": {},
   "outputs": [],
   "source": [
    "live_data = X_test[54:55,:]\n",
    "live_data"
   ]
  },
  {
   "cell_type": "code",
   "execution_count": null,
   "metadata": {},
   "outputs": [],
   "source": [
    "model.predict(live_data)"
   ]
  },
  {
   "cell_type": "code",
   "execution_count": null,
   "metadata": {},
   "outputs": [],
   "source": [
    "sample = pd.DataFrame({\n",
    "    'MedInc': [8.325200],\n",
    "    'HouseAge': [41.000000],\n",
    "    'AveRooms': [6.984127],\n",
    "    'AveBedrms': [1.023810],\n",
    "    'Population': [322.000000],\n",
    "    'AveOccup': [2.555556],\n",
    "    'Latitude': [37.880000],\n",
    "    'Longitude': [-122.230000] \n",
    "})\n",
    "\n",
    "sample"
   ]
  },
  {
   "cell_type": "code",
   "execution_count": null,
   "metadata": {},
   "outputs": [],
   "source": [
    "sample_cnn = pipeline.transform(sample.values)\n",
    "sample_cnn"
   ]
  },
  {
   "cell_type": "code",
   "execution_count": null,
   "metadata": {},
   "outputs": [],
   "source": [
    "predicted_price = model.predict(sample_cnn)[0][0]\n",
    "print('---------------')\n",
    "print(f\"Predicted house price based on the information provided is: {predicted_price:.2f} arb. units.\")\n",
    "print('---------------')"
   ]
  },
  {
   "cell_type": "code",
   "execution_count": null,
   "metadata": {},
   "outputs": [],
   "source": [
    "model.save('../outputs/models/nn_regression.h5')"
   ]
  }
 ],
 "metadata": {
  "language_info": {
   "name": "python"
  }
 },
 "nbformat": 4,
 "nbformat_minor": 2
}
