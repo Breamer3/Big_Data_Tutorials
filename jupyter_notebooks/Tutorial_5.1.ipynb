{
 "cells": [
  {
   "cell_type": "code",
   "execution_count": null,
   "metadata": {},
   "outputs": [],
   "source": [
    "import numpy as np\n",
    "import pandas as pd\n",
    "import plotly.express as px # Interactive charts and save some coding; .express - high-level api\n",
    "import matplotlib\n",
    "import matplotlib.pyplot as plt\n",
    "import seaborn as sns"
   ]
  },
  {
   "cell_type": "code",
   "execution_count": null,
   "metadata": {},
   "outputs": [],
   "source": [
    "# Change settings to improve default style (optional)\n",
    "sns.set_style('darkgrid')\n",
    "matplotlib.rcParams['font.size'] = 14\n",
    "matplotlib.rcParams['figure.figsize'] = (10, 6)\n",
    "matplotlib.rcParams['figure.facecolor'] = '#00000000'"
   ]
  },
  {
   "cell_type": "code",
   "execution_count": 1,
   "metadata": {},
   "outputs": [],
   "source": [
    "data_path = r'N:\\Y3\\TB2\\Big Data\\Tut Project\\medical-charges.csv'"
   ]
  },
  {
   "cell_type": "code",
   "execution_count": 2,
   "metadata": {},
   "outputs": [
    {
     "ename": "NameError",
     "evalue": "name 'pd' is not defined",
     "output_type": "error",
     "traceback": [
      "\u001b[0;31m---------------------------------------------------------------------------\u001b[0m",
      "\u001b[0;31mNameError\u001b[0m                                 Traceback (most recent call last)",
      "Cell \u001b[0;32mIn[2], line 1\u001b[0m\n\u001b[0;32m----> 1\u001b[0m medical_df \u001b[38;5;241m=\u001b[39m \u001b[43mpd\u001b[49m\u001b[38;5;241m.\u001b[39mread_csv(data_path)\n",
      "\u001b[0;31mNameError\u001b[0m: name 'pd' is not defined"
     ]
    }
   ],
   "source": [
    "medical_df = pd.read_csv(data_path)"
   ]
  },
  {
   "cell_type": "code",
   "execution_count": null,
   "metadata": {},
   "outputs": [],
   "source": [
    "medical_df.head()"
   ]
  },
  {
   "cell_type": "code",
   "execution_count": null,
   "metadata": {},
   "outputs": [],
   "source": [
    "print(medical_df['charges'].corr(medical_df['age']))\n",
    "print(medical_df['charges'].corr(medical_df['bmi']))\n",
    "print(medical_df['charges'].corr(medical_df['children']))"
   ]
  },
  {
   "cell_type": "code",
   "execution_count": null,
   "metadata": {},
   "outputs": [],
   "source": [
    "\n",
    "smoker_values = {'no':0, 'yes':1}\n",
    "smoker_numeric = medical_df['smoker'].map(smoker_values)\n",
    "medical_df['charges'].corr(smoker_numeric)"
   ]
  },
  {
   "cell_type": "code",
   "execution_count": null,
   "metadata": {},
   "outputs": [],
   "source": [
    "medical_df.select_dtypes(include='number').corr()"
   ]
  },
  {
   "cell_type": "code",
   "execution_count": null,
   "metadata": {},
   "outputs": [],
   "source": [
    "sns.heatmap(\n",
    "    medical_df.select_dtypes(include='number').corr(),\n",
    "    cmap='Reds',\n",
    "    annot=True    \n",
    ")\n",
    "plt.title(\"Correlation matrix\")\n",
    "plt.show()"
   ]
  },
  {
   "cell_type": "code",
   "execution_count": null,
   "metadata": {},
   "outputs": [],
   "source": [
    "from sklearn.linear_model import LinearRegression"
   ]
  },
  {
   "cell_type": "code",
   "execution_count": null,
   "metadata": {},
   "outputs": [],
   "source": [
    "model = LinearRegression()  # Create a model variable and assign linear regression model to it"
   ]
  },
  {
   "cell_type": "code",
   "execution_count": null,
   "metadata": {},
   "outputs": [],
   "source": [
    "help(model.fit)"
   ]
  },
  {
   "cell_type": "code",
   "execution_count": null,
   "metadata": {},
   "outputs": [],
   "source": [
    "non_smoker_df = medical_df[medical_df['smoker'] == 'no'] # Either line will work. Just different syntaxes; But I like no 1 more.\n",
    "non_smoker_df.head(3)"
   ]
  },
  {
   "cell_type": "code",
   "execution_count": null,
   "metadata": {},
   "outputs": [],
   "source": [
    "inputs = non_smoker_df[['age']] # required to be 2D array. We want a dataframe, not a series.\n",
    "targets = non_smoker_df['charges'] # There is only one dependent variable => no 2D notation is required.\n",
    "print(\"Inputs shape\", inputs.shape) # Output: (1064, 1) -> First number is how many lines; 2nd number is how many columns.\n",
    "print(\"targets\", targets.shape)"
   ]
  },
  {
   "cell_type": "code",
   "execution_count": null,
   "metadata": {},
   "outputs": [],
   "source": [
    "model.fit(inputs, targets)"
   ]
  },
  {
   "cell_type": "code",
   "execution_count": null,
   "metadata": {},
   "outputs": [],
   "source": [
    "model.predict(np.array([\n",
    "    [23],\n",
    "    [37],\n",
    "    [61]\n",
    "]))"
   ]
  },
  {
   "cell_type": "code",
   "execution_count": null,
   "metadata": {},
   "outputs": [],
   "source": [
    "predictions = model.predict(inputs)\n",
    "print(predictions)"
   ]
  },
  {
   "cell_type": "code",
   "execution_count": null,
   "metadata": {},
   "outputs": [],
   "source": [
    "\n",
    "def rmse(targets, predictions):\n",
    "    \"\"\"\n",
    "    Returns RMSE for targets and prediction values.\n",
    "    \"\"\"\n",
    "    return np.sqrt(np.mean(np.square(predictions - targets)))"
   ]
  },
  {
   "cell_type": "code",
   "execution_count": null,
   "metadata": {},
   "outputs": [],
   "source": [
    "rmse(targets, predictions) # Output USD 4662.5. Meaning on average we are away from the target by this number."
   ]
  },
  {
   "cell_type": "code",
   "execution_count": null,
   "metadata": {},
   "outputs": [],
   "source": [
    "# w:\n",
    "print(model.coef_)\n",
    "# b:\n",
    "print(model.intercept_)"
   ]
  },
  {
   "cell_type": "code",
   "execution_count": null,
   "metadata": {},
   "outputs": [],
   "source": [
    "# Create inputs and targets:\n",
    "inputs, targets = non_smoker_df[['age', 'bmi']], non_smoker_df['charges']\n",
    "# Create and train the model:\n",
    "model = LinearRegression().fit(inputs, targets)\n",
    "# Run predictions:\n",
    "predictions = model.predict(inputs)  # inputs [[22, 20]]\n",
    "print(f\"Predicted charge is: {predictions}\")\n",
    "# Compute loss to evaluate model:\n",
    "loss = rmse(targets, predictions)\n",
    "print(f\"The loss is: {round(loss, 2)}\")"
   ]
  },
  {
   "cell_type": "code",
   "execution_count": null,
   "metadata": {},
   "outputs": [],
   "source": [
    "inputs.head()\n",
    "inputs.shape\n",
    "non_smoker_df['charges'].corr(non_smoker_df['bmi'])\n",
    "fig = px.scatter(\n",
    "    non_smoker_df,\n",
    "    x='bmi',\n",
    "    y='charges',\n",
    "    title=\"BMI vs. Charges\"\n",
    ")\n",
    "fig.update_traces(marker_size=5)\n",
    "fig.show()"
   ]
  },
  {
   "cell_type": "code",
   "execution_count": null,
   "metadata": {},
   "outputs": [],
   "source": [
    "fig = px.scatter_3d(\n",
    "    non_smoker_df,\n",
    "    x='age',\n",
    "    y='bmi',\n",
    "    z='charges'\n",
    ")\n",
    "fig.update_traces(marker_size=3, marker_opacity=0.8)\n",
    "fig.show()\n",
    "print(\"Model coefficient and intercept are:\")\n",
    "print(model.coef_)\n",
    "print(round(model.intercept_, 2))\n",
    "non_smoker_df['children'].corr(non_smoker_df['charges'])\n",
    "fig = px.strip(\n",
    "    non_smoker_df,\n",
    "    x='children',\n",
    "    y='charges',\n",
    "    title=\"Children vs. Charges\"    \n",
    ")\n",
    "fig.update_traces(marker_size=4, marker_opacity=0.7)\n",
    "fig.show()"
   ]
  },
  {
   "cell_type": "code",
   "execution_count": null,
   "metadata": {},
   "outputs": [],
   "source": [
    "# Create inputs and targets:\n",
    "inputs, targets = medical_df[['age', 'bmi', 'children']], medical_df['charges']\n",
    "# Create and train the model:\n",
    "model = LinearRegression().fit(inputs, targets)\n",
    "# Run predictions:\n",
    "predictions = model.predict(inputs)\n",
    "# compute the loss and evaluate the model:\n",
    "loss = rmse(targets, predictions)\n",
    "print(f\"The loss is: {round(loss, 2)}\")\n",
    "\"\"\"\n",
    "The output of the above code will be way much higher because smoker/non-smoker feature makes distinct clusters - see plot below.\n",
    "\"\"\"\n",
    "px.scatter(\n",
    "    medical_df,\n",
    "    x='age',\n",
    "    y='charges',\n",
    "    color='smoker',\n",
    "    title=\"Charges vs. Age\"\n",
    ")"
   ]
  },
  {
   "cell_type": "code",
   "execution_count": null,
   "metadata": {},
   "outputs": [],
   "source": [
    "sns.barplot(data=medical_df, x='smoker', y='charges')\n",
    "smoker_codes = {'no': 0, 'yes': 1}\n",
    "medical_df['smoker_code'] = medical_df.smoker.map(smoker_codes)\n",
    "medical_df['charges'].corr(medical_df['smoker_code'])\n",
    "medical_df"
   ]
  },
  {
   "cell_type": "code",
   "execution_count": null,
   "metadata": {},
   "outputs": [],
   "source": [
    "# Create inputs and targets\n",
    "inputs, targets = medical_df[['age', 'bmi', 'children', 'smoker_code']], medical_df['charges']\n",
    "\n",
    "# Create and train the model\n",
    "model = LinearRegression().fit(inputs, targets)\n",
    "\n",
    "# Generate predictions\n",
    "predictions = model.predict(inputs)\n",
    "\n",
    "# Compute loss to evalute the model\n",
    "loss = rmse(targets, predictions)\n",
    "print('Loss:', loss)"
   ]
  },
  {
   "cell_type": "code",
   "execution_count": null,
   "metadata": {},
   "outputs": [],
   "source": [
    "sns.barplot(data=medical_df, x='sex', y='charges')\n",
    "sex_codes = {'female': 0, 'male': 1}\n",
    "medical_df['sex_code'] = medical_df.sex.map(sex_codes)\n",
    "medical_df['charges'].corr(medical_df['sex_code'])\n",
    "# Create inputs and targets\n",
    "inputs, targets = medical_df[['age', 'bmi', 'children', 'smoker_code', 'sex_code']], medical_df['charges']\n",
    "\n",
    "# Create and train the model\n",
    "model = LinearRegression().fit(inputs, targets)\n",
    "\n",
    "# Generate predictions\n",
    "predictions = model.predict(inputs)\n",
    "\n",
    "# Compute loss to evalute the model\n",
    "loss = rmse(targets, predictions)\n",
    "print('Loss:', loss)"
   ]
  },
  {
   "cell_type": "code",
   "execution_count": null,
   "metadata": {},
   "outputs": [],
   "source": [
    "sns.barplot(data=medical_df, x='region', y='charges')\n",
    "from sklearn import preprocessing\n",
    "enc = preprocessing.OneHotEncoder()\n",
    "enc.fit(medical_df[['region']])\n",
    "enc.categories_\n",
    "one_hot = enc.transform(medical_df[['region']]).toarray()\n",
    "one_hot\n",
    "medical_df[['northeast', 'northwest', 'southeast', 'southwest']] = one_hot\n",
    "medical_df.head()"
   ]
  },
  {
   "cell_type": "code",
   "execution_count": null,
   "metadata": {},
   "outputs": [],
   "source": [
    "# Create inputs and targets\n",
    "input_cols = ['age', 'bmi', 'children', 'smoker_code', 'sex_code', 'northeast', 'northwest', 'southeast', 'southwest']\n",
    "inputs, targets = medical_df[input_cols], medical_df['charges']\n",
    "\n",
    "# Create and train the model\n",
    "model = LinearRegression().fit(inputs, targets)\n",
    "\n",
    "# Generate predictions\n",
    "predictions = model.predict(inputs)\n",
    "\n",
    "# Compute loss to evalute the model\n",
    "loss = rmse(targets, predictions)\n",
    "print('Loss:', loss)\n"
   ]
  },
  {
   "cell_type": "code",
   "execution_count": null,
   "metadata": {},
   "outputs": [],
   "source": [
    "from sklearn.model_selection import train_test_split\n",
    "inputs_train, inputs_test, targets_train, targets_test = train_test_split(inputs, targets, test_size=0.1)\n",
    "# Create and train the model\n",
    "model = LinearRegression().fit(inputs_train, targets_train)\n",
    "\n",
    "# Generate predictions\n",
    "predictions_test = model.predict(inputs_test)\n",
    "\n",
    "# Compute loss to evalute the model\n",
    "loss = rmse(targets_test, predictions_test)\n",
    "print('Test Loss:', loss)"
   ]
  },
  {
   "cell_type": "code",
   "execution_count": null,
   "metadata": {},
   "outputs": [],
   "source": [
    "# Generate predictions\n",
    "predictions_train = model.predict(inputs_train)\n",
    "\n",
    "# Compute loss to evalute the model\n",
    "loss = rmse(targets_train, predictions_train)\n",
    "print('Training Loss:', loss)"
   ]
  },
  {
   "cell_type": "code",
   "execution_count": null,
   "metadata": {},
   "outputs": [],
   "source": [
    "john_smith = {\n",
    "\t\"age\": [30],             # Example age\n",
    "    \"bmi\": [29.5],           # Example BMI\n",
    "    \"children\": [2],         # Example number of children\n",
    "    \"smoker_code\": [1],      # Smoker (1 for yes, 0 for no)\n",
    "    \"sex_code\": [0],         # Male (1), Female (0)\n",
    "    \"northeast\": [0],        # One-hot encoded region:\n",
    "    \"northwest\": [1],\n",
    "    \"southeast\": [0],\n",
    "    \"southwest\": [0]\n",
    "}"
   ]
  },
  {
   "cell_type": "code",
   "execution_count": null,
   "metadata": {},
   "outputs": [],
   "source": [
    "single_person = pd.DataFrame(john_smith)\n",
    "single_person.head()"
   ]
  },
  {
   "cell_type": "code",
   "execution_count": null,
   "metadata": {},
   "outputs": [],
   "source": [
    "single_prediction = model.predict(single_person)\n",
    "print(f\"Predicted health insurance charge for John Smith is {single_prediction[0]:.1f} USD\")"
   ]
  },
  {
   "cell_type": "code",
   "execution_count": null,
   "metadata": {},
   "outputs": [],
   "source": [
    "residuals = targets_train - predictions_train  # Compute residuals (errors)\n",
    "std_dev = np.std(residuals)  # Compute the standard deviation of residuals\n",
    "confidence_interval = 1.96 * std_dev  # Confidence interval (for 95% confidence level, 1.96 standard deviations)\n",
    "\n",
    "# Make a single prediction\n",
    "# single_prediction = model.predict(single_person)[0]\n",
    "\n",
    "# Compute lower and upper bounds for prediction interval\n",
    "lower_bound = single_prediction - confidence_interval\n",
    "upper_bound = single_prediction + confidence_interval\n",
    "\n",
    "print(f\"Predicted value: {single_prediction}\")\n",
    "print(f\"95% Prediction Interval: ({lower_bound}, {upper_bound})\")"
   ]
  }
 ],
 "metadata": {
  "kernelspec": {
   "display_name": "Python 3",
   "language": "python",
   "name": "python3"
  },
  "language_info": {
   "codemirror_mode": {
    "name": "ipython",
    "version": 3
   },
   "file_extension": ".py",
   "mimetype": "text/x-python",
   "name": "python",
   "nbconvert_exporter": "python",
   "pygments_lexer": "ipython3",
   "version": "3.12.1"
  }
 },
 "nbformat": 4,
 "nbformat_minor": 2
}
